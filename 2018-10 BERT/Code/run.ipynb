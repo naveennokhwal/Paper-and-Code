{
 "cells": [
  {
   "cell_type": "code",
   "execution_count": null,
   "id": "069651a1",
   "metadata": {},
   "outputs": [],
   "source": [
    "import torch\n",
    "import tiktoken\n",
    "\n",
    "from Model import EncoderOnlyModel\n",
    "\n",
    "device = torch.device('cuda' if torch.cuda.is_available() else 'cpu')"
   ]
  },
  {
   "cell_type": "code",
   "execution_count": 4,
   "id": "6b194707",
   "metadata": {},
   "outputs": [],
   "source": [
    "# Load dataset\n",
    "data_path = r\"C:\\Learning\\Machine-Learning\\Deep_Learning_WorkSpace\\my_learnings\\Neural-Networks-Andrej\\dataset\\input.txt\"\n",
    "with open(data_path, \"r\", encoding=\"utf-8\") as f:\n",
    "    text = f.read()"
   ]
  },
  {
   "cell_type": "code",
   "execution_count": null,
   "id": "87445f6e",
   "metadata": {},
   "outputs": [],
   "source": [
    "# tokenization\n",
    "enc = tiktoken.get_encoding(\"p50k_base\")\n",
    "data = enc.encode(text)\n",
    "print(data[:100])"
   ]
  },
  {
   "cell_type": "code",
   "execution_count": null,
   "id": "a93df7ea",
   "metadata": {},
   "outputs": [],
   "source": [
    "# vocabulary\n",
    "vocab_size = enc.n_vocab\n",
    "print(f\"vocab size: {vocab_size}\")"
   ]
  },
  {
   "cell_type": "code",
   "execution_count": null,
   "id": "089d1828",
   "metadata": {},
   "outputs": [],
   "source": [
    "# training and validation data\n",
    "n = int(0.9 * len(data))\n",
    "train_data = torch.tensor(data[:n]).to(device)\n",
    "val_data = torch.tensor(data[n:]).to(device)\n",
    "print(f\"train data: {train_data.shape, train_data.dtype} || val data: {val_data.shape, val_data.dtype}\")"
   ]
  },
  {
   "cell_type": "code",
   "execution_count": null,
   "id": "a4cffb80",
   "metadata": {},
   "outputs": [],
   "source": [
    "# hyperparameters\n",
    "batch_size = 4  # parallel inputs\n",
    "block_size = 8  # context length\n",
    "n_embd = 64 \n",
    "n_heads = 2\n",
    "n_layers = 2\n",
    "eval_iter= 200\n",
    "epochs = 3000\n",
    "eval_interval = 500\n",
    "lr = 3e-4"
   ]
  },
  {
   "cell_type": "code",
   "execution_count": null,
   "id": "5c80073a",
   "metadata": {},
   "outputs": [],
   "source": [
    "# sample generator\n",
    "def get_batch(split):\n",
    "    data = train_data if split == 'train' else val_data\n",
    "    ix = torch.randint(len(data) - block_size, (batch_size,), device=device)\n",
    "    x = torch.stack([data[i:i+block_size] for i in ix])\n",
    "    return x"
   ]
  },
  {
   "cell_type": "code",
   "execution_count": null,
   "id": "7d466d60",
   "metadata": {},
   "outputs": [],
   "source": [
    "# loss calculation\n",
    "@torch.no_grad()\n",
    "def estimate_loss():\n",
    "    out = {}\n",
    "    model.eval()\n",
    "    for split in [\"train\", \"val\"]:\n",
    "        losses = torch.zeros(eval_iter, device=device)\n",
    "        for k in range(eval_iter):\n",
    "            X = get_batch(split)\n",
    "            _, loss = model(X, Train=True)\n",
    "            losses[k] = loss.item()\n",
    "        out[split] = losses.mean()\n",
    "    model.train()\n",
    "    return out"
   ]
  },
  {
   "cell_type": "code",
   "execution_count": null,
   "id": "4abce541",
   "metadata": {},
   "outputs": [],
   "source": [
    "# Create model and move it to device\n",
    "model = EncoderOnlyModel(vocab_size, n_layers, n_embd, block_size, n_heads).to(device)\n",
    "optimizer = torch.optim.AdamW(model.parameters(), lr=lr)"
   ]
  },
  {
   "cell_type": "code",
   "execution_count": null,
   "id": "11848a58",
   "metadata": {},
   "outputs": [],
   "source": [
    "# training loop\n",
    "for epoch in range(epochs):\n",
    "    if epoch % eval_interval == 0:\n",
    "        losses = estimate_loss()\n",
    "        print(f\"epoch: {epoch+100} || training loss: {losses['train']:.4f} || Validation loss: {losses['val']:.4f}\")\n",
    "    xb = get_batch(\"train\")\n",
    "    _, loss = model(xb, Train=True)\n",
    "    optimizer.zero_grad(set_to_none=True)\n",
    "    loss.backward()\n",
    "    optimizer.step()"
   ]
  }
 ],
 "metadata": {
  "kernelspec": {
   "display_name": "base_env",
   "language": "python",
   "name": "python3"
  },
  "language_info": {
   "codemirror_mode": {
    "name": "ipython",
    "version": 3
   },
   "file_extension": ".py",
   "mimetype": "text/x-python",
   "name": "python",
   "nbconvert_exporter": "python",
   "pygments_lexer": "ipython3",
   "version": "3.13.2"
  }
 },
 "nbformat": 4,
 "nbformat_minor": 5
}

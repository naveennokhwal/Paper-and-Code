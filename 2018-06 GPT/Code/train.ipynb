{
 "cells": [
  {
   "cell_type": "code",
   "execution_count": 18,
   "id": "e52ce69b",
   "metadata": {},
   "outputs": [],
   "source": [
    "import torch\n",
    "import tiktoken\n",
    "\n",
    "from model import DecoderOnlyModel"
   ]
  },
  {
   "cell_type": "code",
   "execution_count": null,
   "id": "ee4530e2",
   "metadata": {},
   "outputs": [],
   "source": [
    "DATA_PATH = None  #Add path to data\n",
    "text = open(DATA_PATH, 'r').read()"
   ]
  },
  {
   "cell_type": "code",
   "execution_count": 20,
   "id": "34b0576a",
   "metadata": {},
   "outputs": [
    {
     "name": "stdout",
     "output_type": "stream",
     "text": [
      "Total number of Tokens: 338k\n"
     ]
    }
   ],
   "source": [
    "enc = tiktoken.get_encoding('p50k_base')\n",
    "data = enc.encode(text)\n",
    "print(f\"Total number of Tokens: {len(data)//1000}k\")"
   ]
  },
  {
   "cell_type": "code",
   "execution_count": 21,
   "id": "926ae1d1",
   "metadata": {},
   "outputs": [
    {
     "name": "stdout",
     "output_type": "stream",
     "text": [
      "Vocabulary size: 50281\n"
     ]
    }
   ],
   "source": [
    "vocab_size = enc.n_vocab\n",
    "print(f\"Vocabulary size: {vocab_size}\")"
   ]
  },
  {
   "cell_type": "code",
   "execution_count": 22,
   "id": "7a388f97",
   "metadata": {},
   "outputs": [
    {
     "name": "stdout",
     "output_type": "stream",
     "text": [
      "Train data: torch.Size([300000]) || torch.int64\n",
      "Validation data: torch.Size([38022]) || torch.int64\n"
     ]
    }
   ],
   "source": [
    "n = int(0.887519*len(data))\n",
    "train_data = torch.tensor(data[:n])\n",
    "val_data = torch.tensor(data[n:])\n",
    "\n",
    "print(f\"Train data: {train_data.shape} || {train_data.dtype}\")\n",
    "print(f\"Validation data: {val_data.shape} || {val_data.dtype}\")"
   ]
  },
  {
   "cell_type": "code",
   "execution_count": 23,
   "id": "982e37aa",
   "metadata": {},
   "outputs": [],
   "source": [
    "block_size = 8\n",
    "batch_size = 4\n",
    "n_embd = 64\n",
    "epochs = 1000\n",
    "num_heads = 2\n",
    "n_layer = 1\n",
    "dropout = 0.1\n",
    "lr = 0.01\n",
    "epoch_iter = 100"
   ]
  },
  {
   "cell_type": "code",
   "execution_count": 24,
   "id": "0b4ccb54",
   "metadata": {},
   "outputs": [],
   "source": [
    "def get_sample(block_size, batch_size, Split = 'Train'):\n",
    "    if Split == \"Train\":\n",
    "        idx = torch.randint(low= 0, high= len(train_data)-block_size, size= (batch_size,))\n",
    "        X = torch.stack([train_data[torch.arange(start= ix, end= ix + block_size )] for ix in  idx])\n",
    "        Y = torch.stack([train_data[torch.arange(start= ix+1, end= ix + block_size+1)] for ix in idx])\n",
    "        return X, Y\n",
    "    \n",
    "    else:\n",
    "        idx = torch.randint(low= 0, high= len(val_data)-block_size, size= (batch_size,))\n",
    "        X = torch.stack([val_data[torch.arange(start= ix, end= ix + block_size )] for ix in  idx])\n",
    "        Y = torch.stack([val_data[torch.arange(start= ix+1, end= ix + block_size+1)] for ix in idx])\n",
    "        return X, Y\n"
   ]
  },
  {
   "cell_type": "code",
   "execution_count": 25,
   "id": "9059983e",
   "metadata": {},
   "outputs": [],
   "source": [
    "model = DecoderOnlyModel(vocab_size, n_embd, block_size, num_heads, n_layer, dropout)\n",
    "optimizer = torch.optim.Adam(params= model.parameters(), lr= lr)"
   ]
  },
  {
   "cell_type": "code",
   "execution_count": 26,
   "id": "2107de0b",
   "metadata": {},
   "outputs": [
    {
     "name": "stdout",
     "output_type": "stream",
     "text": [
      "Epoch: 100/1000 || Train Loss: 11.22181510925293 ||  Val Loss: 11.22181510925293\n",
      "Epoch: 200/1000 || Train Loss: 8.059085845947266 ||  Val Loss: 8.059085845947266\n",
      "Epoch: 300/1000 || Train Loss: 7.912618160247803 ||  Val Loss: 7.912618160247803\n",
      "Epoch: 400/1000 || Train Loss: 5.660836219787598 ||  Val Loss: 5.660836219787598\n",
      "Epoch: 500/1000 || Train Loss: 6.516085147857666 ||  Val Loss: 6.516085147857666\n",
      "Epoch: 600/1000 || Train Loss: 5.478137016296387 ||  Val Loss: 5.478137016296387\n",
      "Epoch: 700/1000 || Train Loss: 5.15478515625 ||  Val Loss: 5.15478515625\n",
      "Epoch: 800/1000 || Train Loss: 7.252851486206055 ||  Val Loss: 7.252851486206055\n",
      "Epoch: 900/1000 || Train Loss: 4.366596698760986 ||  Val Loss: 4.366596698760986\n",
      "Epoch: 1000/1000 || Train Loss: 5.977535247802734 ||  Val Loss: 5.977535247802734\n"
     ]
    }
   ],
   "source": [
    "for epoch in range(epochs):\n",
    "    xb, yb = get_sample(block_size, batch_size, Split= 'Train')\n",
    "    _, train_loss = model(idx= xb, targets= yb, block_size= block_size)\n",
    "\n",
    "    if epoch % epoch_iter == 0:\n",
    "        xb, yb = get_sample(block_size, batch_size, Split= \"Val\")\n",
    "        _, val_loss = model(idx= xb, targets= yb, block_size= block_size)\n",
    "\n",
    "        print(f\"Epoch: {epoch+epoch_iter}/{epochs} || Train Loss: {train_loss.item()} ||  Val Loss: {train_loss.item()}\")\n",
    "\n",
    "    optimizer.zero_grad()\n",
    "    train_loss.backward()\n",
    "    optimizer.step()\n",
    "\n",
    "    \n",
    "    \n",
    "    "
   ]
  },
  {
   "cell_type": "code",
   "execution_count": 27,
   "id": "dbb9915c",
   "metadata": {},
   "outputs": [
    {
     "name": "stdout",
     "output_type": "stream",
     "text": [
      " killUCHESS OF nisaid a BOLINGBRENTIO:Who destruction destruction,ound, eye us;amy done-- dead!\n",
      "Justice, hoa alone, done flyages knifeories traitor, a battle came in heaven, though stand widowHeartworth hearariumrons pleased'sonent enter offended of a quarterly lament ever theeind mayipolar;\n",
      "Thus flying redress while ins.\n",
      "OP OF Dysixtian against could be deliver the recreine Murderer:\n",
      " Proper CustomersTER:\n",
      "Although:rupulousereWARD IV: weaton ob profit hair Authorities obey thy nose pays thy any woman of my RICHARD II:\n",
      "For measure;' plated un inen${ dances depended with me PUR began the generalIVERS:\n",
      "To prosper hide do corrupt sure;able ingator-morrow dRAKENBUR knock wear soon either:He. I doubt; and shewood! herice' twoOPomegranate but gates ofurchathe's itself.\n",
      "Art shouts\n"
     ]
    }
   ],
   "source": [
    "out = model.generate(idx= torch.zeros((batch_size, block_size), dtype= torch.long), max_new_token= 200, block_size= block_size)[0, 8:]\n",
    "print(enc.decode(out.tolist()))"
   ]
  }
 ],
 "metadata": {
  "kernelspec": {
   "display_name": "base_env",
   "language": "python",
   "name": "python3"
  },
  "language_info": {
   "codemirror_mode": {
    "name": "ipython",
    "version": 3
   },
   "file_extension": ".py",
   "mimetype": "text/x-python",
   "name": "python",
   "nbconvert_exporter": "python",
   "pygments_lexer": "ipython3",
   "version": "3.13.2"
  }
 },
 "nbformat": 4,
 "nbformat_minor": 5
}
